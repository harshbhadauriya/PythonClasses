{
 "cells": [
  {
   "cell_type": "markdown",
   "id": "dfe5e632",
   "metadata": {},
   "source": [
    "### INPUT/OUTPUT\n"
   ]
  },
  {
   "cell_type": "code",
   "execution_count": 1,
   "id": "b75a602f",
   "metadata": {},
   "outputs": [
    {
     "name": "stdout",
     "output_type": "stream",
     "text": [
      "hello kushal\n"
     ]
    }
   ],
   "source": [
    "Name = input()\n",
    "print(\"hello\",Name)"
   ]
  },
  {
   "cell_type": "code",
   "execution_count": null,
   "id": "2b3e775a",
   "metadata": {},
   "outputs": [],
   "source": [
    "help(input)"
   ]
  },
  {
   "cell_type": "code",
   "execution_count": null,
   "id": "9e8ed90c",
   "metadata": {},
   "outputs": [],
   "source": [
    "help(print)"
   ]
  },
  {
   "cell_type": "code",
   "execution_count": null,
   "id": "3585e0b8",
   "metadata": {},
   "outputs": [],
   "source": [
    "###   \\n-----it means it changes the line in function"
   ]
  },
  {
   "cell_type": "code",
   "execution_count": null,
   "id": "7ca45a45",
   "metadata": {},
   "outputs": [],
   "source": [
    "print(\"hello\\nharsh\\nwlecome\\nto\\npython\")"
   ]
  },
  {
   "cell_type": "code",
   "execution_count": null,
   "id": "24e44d55",
   "metadata": {},
   "outputs": [],
   "source": [
    "print(chr(72)+chr(65)+chr(82)+chr(83)+chr(72))"
   ]
  },
  {
   "cell_type": "code",
   "execution_count": null,
   "id": "fa5bb09b",
   "metadata": {
    "scrolled": true
   },
   "outputs": [],
   "source": [
    "print(\"i love india\", end=\" \")\n",
    "print(\"india is my country\")"
   ]
  },
  {
   "cell_type": "code",
   "execution_count": null,
   "id": "b959b943",
   "metadata": {},
   "outputs": [],
   "source": [
    "print(\"i love india\",\"india is my country\")\n"
   ]
  },
  {
   "cell_type": "code",
   "execution_count": null,
   "id": "d35b3494",
   "metadata": {},
   "outputs": [],
   "source": []
  },
  {
   "cell_type": "code",
   "execution_count": null,
   "id": "237ea47b",
   "metadata": {},
   "outputs": [],
   "source": [
    "\n",
    "        "
   ]
  },
  {
   "cell_type": "markdown",
   "id": "cb321745",
   "metadata": {},
   "source": [
    "### Assingnment--1"
   ]
  },
  {
   "cell_type": "code",
   "execution_count": null,
   "id": "34da3354",
   "metadata": {},
   "outputs": [],
   "source": [
    "Name= input(\"enter your name\")\n",
    "Birth_year = int(input(\"enter your birth year\"))\n",
    "Current_year=2022\n",
    "age=Current_year-Birth_year\n",
    "print(\"hello\",Name,\"you are\",age,\"year old \")"
   ]
  },
  {
   "cell_type": "markdown",
   "id": "29fde3e7",
   "metadata": {},
   "source": [
    "### Assingment 2\n",
    "\n",
    "\n"
   ]
  },
  {
   "cell_type": "code",
   "execution_count": null,
   "id": "7e0a11df",
   "metadata": {},
   "outputs": [],
   "source": [
    "Product_name = input(\"enter the name of the product\")\n",
    "Product_price = int(input(\"enter amount\"))\n",
    "Discount = int(input(\"enter given discount\"))\n",
    "sol = (Product_price*Discount)/100\n",
    "Amount_pay = Product_price-sol\n",
    "print(\"you have to pay\",Amount_pay,\"\\u20B9\",\"for\",Product_name)"
   ]
  },
  {
   "cell_type": "code",
   "execution_count": null,
   "id": "db3fc06f",
   "metadata": {},
   "outputs": [],
   "source": [
    "print(\"\\u20B9\")"
   ]
  },
  {
   "cell_type": "markdown",
   "id": "a5668df6",
   "metadata": {},
   "source": [
    "\n"
   ]
  },
  {
   "cell_type": "code",
   "execution_count": null,
   "id": "6535903c",
   "metadata": {},
   "outputs": [],
   "source": [
    "import datetime\n",
    "ctime= datetime.datetime.now().year\n",
    "print(ctime)"
   ]
  },
  {
   "cell_type": "code",
   "execution_count": null,
   "id": "78bdc23b",
   "metadata": {},
   "outputs": [],
   "source": [
    "Product_name = input(\"enter the name of the product\")\n",
    "Product_price = float(input(\"enter amount\"))\n",
    "Discount = float(input(\"enter given discount\"))\n",
    "sol = (Product_price*Discount)/100\n",
    "Amount_pay = Product_price-sol\n",
    "print(\"you have to pay\",Amount_pay,\"\\u20B9\",\"for\",Product_name)"
   ]
  },
  {
   "cell_type": "markdown",
   "id": "d75c75cc",
   "metadata": {},
   "source": [
    "### Assingnment--3\n"
   ]
  },
  {
   "cell_type": "code",
   "execution_count": null,
   "id": "28dd4b17",
   "metadata": {},
   "outputs": [],
   "source": [
    "item = input(\"enter the item -->\")\n",
    "item_price = int(input(\"enter price-->\"))\n",
    "Quantity = int(input(\"enter the number of quantity--->\"))\n",
    "given_discount = int(input(\"enter the discount--->\"))\n",
    "\n",
    "sol = (item_price*Quantity)*given_discount/100\n",
    "orignal_amount = (item_price*Quantity)-sol\n",
    "Tax_pay = (orignal_amount)*20/100\n",
    "Amount_pay = orignal_amount+Tax_pay\n",
    "\n",
    "print(\"you have to pay\",Amount_pay,\"\\u20B9 for\",item)"
   ]
  },
  {
   "cell_type": "markdown",
   "id": "9e473c44",
   "metadata": {},
   "source": [
    "### Assingnment-4"
   ]
  },
  {
   "cell_type": "code",
   "execution_count": null,
   "id": "28e62c04",
   "metadata": {},
   "outputs": [],
   "source": [
    "A = 100\n",
    "B= int(input(\"enter distance\"))\n",
    "C = 3\n",
    "D = B//3\n",
    "E = C-D\n",
    "F = 5*E\n",
    "G = A+F\n",
    "print(\"you have to pay\",G,\"\\u20B9\")"
   ]
  },
  {
   "cell_type": "code",
   "execution_count": null,
   "id": "96f37863",
   "metadata": {},
   "outputs": [],
   "source": []
  },
  {
   "cell_type": "code",
   "execution_count": null,
   "id": "451c3363",
   "metadata": {},
   "outputs": [],
   "source": [
    "s=5\n",
    "print(type(s))"
   ]
  },
  {
   "cell_type": "code",
   "execution_count": null,
   "id": "a8e23bd9",
   "metadata": {},
   "outputs": [],
   "source": []
  },
  {
   "cell_type": "code",
   "execution_count": null,
   "id": "5a3ad4cd",
   "metadata": {},
   "outputs": [],
   "source": []
  }
 ],
 "metadata": {
  "interpreter": {
   "hash": "e09c7ec039dbbe55429f02a1d8f449bfe4a8c8a91dc82a3bba95d90758835f0c"
  },
  "kernelspec": {
   "display_name": "Python 3.10.6 64-bit (windows store)",
   "language": "python",
   "name": "python3"
  },
  "language_info": {
   "codemirror_mode": {
    "name": "ipython",
    "version": 3
   },
   "file_extension": ".py",
   "mimetype": "text/x-python",
   "name": "python",
   "nbconvert_exporter": "python",
   "pygments_lexer": "ipython3",
   "version": "3.10.6"
  }
 },
 "nbformat": 4,
 "nbformat_minor": 5
}
